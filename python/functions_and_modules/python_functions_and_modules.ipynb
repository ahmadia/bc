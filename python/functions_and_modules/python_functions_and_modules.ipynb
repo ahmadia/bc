{
 "metadata": {
  "name": "2d-PythonFunctionsAndModules"
 }, 
 "nbformat": 2, 
 "worksheets": [
  {
   "cells": [
    {
     "cell_type": "markdown", 
     "source": [
      "# 2d-Python: Functions and Modules"
     ]
    }, 
    {
     "cell_type": "markdown", 
     "source": [
      "Presented by: [John Blischak](https://github.com/jdblischak \"GitHub\")  ", 
      "Materials by: [John Blischak](https://github.com/jdblischak \"GitHub\") and other Software Carpentry instructors (Joshua R. Smith, Milad Fatenejad, Katy Huff, Tommy Guy and many more)"
     ]
    }, 
    {
     "cell_type": "markdown", 
     "source": [
      "As you saw in the last lesson, computers are very useful for doing the same operation over and over. When you know you will be performing the same operation many times, it is best to abstract this functionality into a function (aka method). For example, you used the function `open` in an earlier section. This allowed you to easily open a conncetion to a file without worrying about the underlying code that made it possible (this idea is known as abstraction).   "
     ]
    }, 
    {
     "cell_type": "markdown", 
     "source": [
      "# Built-in string methods", 
      "The base distribution comes with many useful functions. When a function works on a specific type of data (lists, strings, dictionaries, etc.), it is called a method.  I will cover some of the basic string methods since they are very useful for reading data into Python."
     ]
    }, 
    {
     "cell_type": "code", 
     "collapsed": false, 
     "input": [
      "# Find the start codon of a gene", 
      "dna = 'CTGTTGACATGCATTCACGCTACGCTAGCT'", 
      "dna.find('ATG')"
     ], 
     "language": "python", 
     "outputs": [], 
     "prompt_number": 1
    }, 
    {
     "cell_type": "code", 
     "collapsed": false, 
     "input": [
      "# parsing a line from a comma-delimted file", 
      "lotto_numbers = '4,8,15,16,23,42\\n'", 
      "lotto_numbers.strip().split(',')"
     ], 
     "language": "python", 
     "outputs": [], 
     "prompt_number": 2
    }, 
    {
     "cell_type": "code", 
     "collapsed": false, 
     "input": [
      "question = '%H%ow%z%d%@d%z%th%ez$%@p%ste%rzb%ur%nz%$%@szt%on%gue%?%'", 
      "print question.replace('%', '').replace('@', 'i').replace('$', 'h').replace('z', ' ')"
     ], 
     "language": "python", 
     "outputs": [], 
     "prompt_number": 3
    }, 
    {
     "cell_type": "code", 
     "collapsed": false, 
     "input": [
      "answer = '=H=&!dr=a=nk!c=~ff&&!be=f~r&=!i=t!w=as!c=~~l.='", 
      "print answer.replace('=', '').replace('&', 'e').replace('~', 'o').replace('!', ' ')"
     ], 
     "language": "python", 
     "outputs": [], 
     "prompt_number": 4
    }, 
    {
     "cell_type": "markdown", 
     "source": [
      "## Short Exercise: Calculate GC content of DNA"
     ]
    }, 
    {
     "cell_type": "markdown", 
     "source": [
      "Because the binding strength of guanine (G) to cytosine (C) is different from the binding strength of adenine (A) to thymine (T) (and many other differences), it is often useful to know the fraction of a DNA sequence that is G's or C's. Go to the [string method section](http://docs.python.org/2/library/string.html) of the Python documentation and find the string method that will allow you to calculate this fraction."
     ]
    }, 
    {
     "cell_type": "code", 
     "collapsed": true, 
     "input": [
      "# Calculate the fraction of G's and C's in this DNA sequence", 
      "seq1 = 'ACGTACGTAGCTAGTAGCTACGTAGCTACGTA'", 
      "gc = "
     ], 
     "language": "python", 
     "outputs": [], 
     "prompt_number": 5
    }, 
    {
     "cell_type": "markdown", 
     "source": [
      "Check your work:"
     ]
    }, 
    {
     "cell_type": "code", 
     "collapsed": false, 
     "input": [
      "round(gc, ndigits = 2) == .47"
     ], 
     "language": "python", 
     "outputs": [], 
     "prompt_number": 6
    }, 
    {
     "cell_type": "markdown", 
     "source": [
      "# Creating your own functions!", 
      "When there is not an available function to perform a task, you can write your own functions."
     ]
    }, 
    {
     "cell_type": "code", 
     "collapsed": true, 
     "input": [
      "def square(x):", 
      "    return x * x"
     ], 
     "language": "python", 
     "outputs": [], 
     "prompt_number": 7
    }, 
    {
     "cell_type": "code", 
     "collapsed": false, 
     "input": [
      "print square(2), square(square(2))"
     ], 
     "language": "python", 
     "outputs": [], 
     "prompt_number": 8
    }, 
    {
     "cell_type": "code", 
     "collapsed": true, 
     "input": [
      "def hello(time, name):", 
      "    \"\"\"Print a nice message. Time and name should both be strings.", 
      "    ", 
      "    Example: hello('morning', 'Software Carpentry')", 
      "    \"\"\"", 
      "    print 'Good ' + time + ', ' + name + '!'"
     ], 
     "language": "python", 
     "outputs": [], 
     "prompt_number": 9
    }, 
    {
     "cell_type": "code", 
     "collapsed": false, 
     "input": [
      "hello('afternoon', 'Software Carpentry')"
     ], 
     "language": "python", 
     "outputs": [], 
     "prompt_number": 10
    }, 
    {
     "cell_type": "markdown", 
     "source": [
      "The description right below the function name is called a docstring. For best practices on composing docstrings, read [PEP 257 -- Docstring Conventions](http://www.python.org/dev/peps/pep-0257/)."
     ]
    }, 
    {
     "cell_type": "markdown", 
     "source": [
      "## Short exercise: Write a function to calculate GC content of DNA", 
      "Make a function that calculate the GC content of a given DNA sequence. For the more advanced participants, make your function able to handle sequences of mixed case (see the third test case)."
     ]
    }, 
    {
     "cell_type": "code", 
     "collapsed": true, 
     "input": [
      "def calculate_gc(x):", 
      "    \"\"\"Calculates the GC content of DNA sequence x.", 
      "    x: a string composed only of A's, T's, G's, and C's.\"\"\""
     ], 
     "language": "python", 
     "outputs": [], 
     "prompt_number": 20
    }, 
    {
     "cell_type": "markdown", 
     "source": [
      "Check your work:"
     ]
    }, 
    {
     "cell_type": "code", 
     "collapsed": false, 
     "input": [
      "print round(calculate_gc('ATGC'), ndigits = 2) == 0.50", 
      "print round(calculate_gc('AGCGTCGTCAGTCGT'), ndigits = 2) == 0.60", 
      "print round(calculate_gc('ATaGtTCaAGcTCgATtGaATaGgTAaCt'), ndigits = 2) == 0.34"
     ], 
     "language": "python", 
     "outputs": [], 
     "prompt_number": 21
    }, 
    {
     "cell_type": "markdown", 
     "source": [
      "# Modules", 
      "Python has a lot of useful data type and functions built into the language, some of which you have already seen. For a full list, you can type `dir(__builtins__)`. However, there are even more functions stored in modules. An example is the sine function, which is stored in the math module. In order to access mathematical functions, like sin, we need to `import` the math module. Lets take a look at a simple example:"
     ]
    }, 
    {
     "cell_type": "code", 
     "collapsed": false, 
     "input": [
      "print sin(3) # Error! Python doesn't know what sin is...yet"
     ], 
     "language": "python", 
     "outputs": [], 
     "prompt_number": 11
    }, 
    {
     "cell_type": "code", 
     "collapsed": false, 
     "input": [
      "import math # Import the math module", 
      "math.sin(3)"
     ], 
     "language": "python", 
     "outputs": [], 
     "prompt_number": 12
    }, 
    {
     "cell_type": "code", 
     "collapsed": false, 
     "input": [
      "print dir(math) # See a list of everything in the math module"
     ], 
     "language": "python", 
     "outputs": [], 
     "prompt_number": 13
    }, 
    {
     "cell_type": "code", 
     "collapsed": true, 
     "input": [
      "help(math) # Get help information for the math module"
     ], 
     "language": "python", 
     "outputs": [], 
     "prompt_number": 14
    }, 
    {
     "cell_type": "markdown", 
     "source": [
      "It is not very difficult to use modules - you just have to know the module name and import it. There are a few variations on the import statement that can be used to make your life easier. Lets take a look at an example:"
     ]
    }, 
    {
     "cell_type": "code", 
     "collapsed": false, 
     "input": [
      "from math import *  # import everything from math into the global namespace (A BAD IDEA IN GENERAL)", 
      "print sin(3)        # notice that we don't need to type math.sin anymore", 
      "print tan(3)        # the tangent function was also in math, so we can use that too"
     ], 
     "language": "python", 
     "outputs": [], 
     "prompt_number": 15
    }, 
    {
     "cell_type": "code", 
     "collapsed": true, 
     "input": [
      "reset # Clear everything from IPython"
     ], 
     "language": "python", 
     "outputs": [], 
     "prompt_number": 16
    }, 
    {
     "cell_type": "code", 
     "collapsed": false, 
     "input": [
      "from math import sin  # Import just sin from the math module. This is a good idea.", 
      "print sin(3)          # We can use sin because we just imported it", 
      "print tan(3)          # Error: We only imported sin - not tan"
     ], 
     "language": "python", 
     "outputs": [], 
     "prompt_number": 17
    }, 
    {
     "cell_type": "code", 
     "collapsed": true, 
     "input": [
      "reset                 # Clear everything"
     ], 
     "language": "python", 
     "outputs": [], 
     "prompt_number": 18
    }, 
    {
     "cell_type": "code", 
     "collapsed": false, 
     "input": [
      "import math as m      # Same as import math, except we are renaming the module m", 
      "print m.sin(3)        # This is really handy if you have module names that are long"
     ], 
     "language": "python", 
     "outputs": [], 
     "prompt_number": 19
    }, 
    {
     "cell_type": "markdown", 
     "source": [
      "## The General Problem", 
      "![xkcd](http://imgs.xkcd.com/comics/the_general_problem.png \"I find that when someone's taking time to do something right in the present, they're a perfectionist with no ability to prioritize, whereas when someone took time to do something right in the past, they're a master artisan of great foresight.\")", 
      "From [xkcd](http://www.xkcd.com)", 
      "", 
      "Now that you can write your own functions, you too will experience the dilemma of deciding whether to spend the extra time to make your code more general, and therefore more easily reused in the future."
     ]
    }, 
    {
     "cell_type": "markdown", 
     "source": [
      "# Longer exercise: Reading Cochlear implant into Python", 
      "For this exercise we will return to the cochlear implant data first introduced in the section on the shell. In order to analyse the data, we need to import the data into Python. Furthermore, since this is something that would have to be done many times, we will write a function to do this. As before, beginners should aim to complete Part 1 and more advanced participants should try to complete Part 2 and Part 3 as well."
     ]
    }, 
    {
     "cell_type": "markdown", 
     "source": [
      "## Part 1: View the contents of the file from within Python", 
      "Write a function `view_cochlear` that will open the file and print out each line. The only input to the function should be the name of the file as a string. "
     ]
    }, 
    {
     "cell_type": "code", 
     "collapsed": true, 
     "input": [
      "def view_cochlear(filename):", 
      "    \"\"\"Write your docstring here.", 
      "    \"\"\"", 
      "       "
     ], 
     "language": "python", 
     "outputs": [], 
     "prompt_number": 24
    }, 
    {
     "cell_type": "markdown", 
     "source": [
      "Test it out:"
     ]
    }, 
    {
     "cell_type": "code", 
     "collapsed": true, 
     "input": [
      "view_cochlear('/home/swc/boot-camps/shell/data/alexander/data_216.DATA')"
     ], 
     "language": "python", 
     "outputs": [], 
     "prompt_number": 25
    }, 
    {
     "cell_type": "code", 
     "collapsed": true, 
     "input": [
      "view_cochlear('/home/swc/boot-camps/shell/data/Lawrence/Data0525')"
     ], 
     "language": "python", 
     "outputs": [], 
     "prompt_number": 26
    }, 
    {
     "cell_type": "markdown", 
     "source": [
      "## Part 2: ", 
      "Adapt your function above to exclude the first line using the flow control techniques we learned in the last lesson. The first line is just `#` (but don't forget to remove the `'\\n'`)."
     ]
    }, 
    {
     "cell_type": "code", 
     "collapsed": true, 
     "input": [
      "def view_cochlear(filename):", 
      "    \"\"\"Write your docstring here.", 
      "    \"\"\"", 
      "    "
     ], 
     "language": "python", 
     "outputs": [], 
     "prompt_number": 27
    }, 
    {
     "cell_type": "markdown", 
     "source": [
      "Test it out:"
     ]
    }, 
    {
     "cell_type": "code", 
     "collapsed": true, 
     "input": [
      "view_cochlear('/home/swc/boot-camps/shell/data/alexander/data_216.DATA')"
     ], 
     "language": "python", 
     "outputs": [], 
     "prompt_number": 28
    }, 
    {
     "cell_type": "code", 
     "collapsed": true, 
     "input": [
      "view_cochlear('/home/swc/boot-camps/shell/data/Lawrence/Data0525')"
     ], 
     "language": "python", 
     "outputs": [], 
     "prompt_number": 29
    }, 
    {
     "cell_type": "markdown", 
     "source": [
      "## Part 3:", 
      "Adapt your function above to return a dictionary containing the contents of the file. Split each line of the file by a colon followed by a space (': '). The first half of the string should be the key of the dictionary, and the second half should be the value of the dictionary."
     ]
    }, 
    {
     "cell_type": "code", 
     "collapsed": true, 
     "input": [
      "def save_cochlear(filename):", 
      "    \"\"\"Write your docstring here.", 
      "    \"\"\""
     ], 
     "language": "python", 
     "outputs": [], 
     "prompt_number": 30
    }, 
    {
     "cell_type": "markdown", 
     "source": [
      "Check your work:"
     ]
    }, 
    {
     "cell_type": "code", 
     "collapsed": true, 
     "input": [
      "data_216 = save_cochlear(\"/home/swc/boot-camps/shell/data/alexander/data_216.DATA\")", 
      "print data_216[\"Subject\"]"
     ], 
     "language": "python", 
     "outputs": [], 
     "prompt_number": 31
    }, 
    {
     "cell_type": "code", 
     "collapsed": true, 
     "input": [
      "Data0525 = save_cochlear(\"/home/swc/boot-camps/shell/data/alexander/data_216.DATA\")", 
      "print Data0525[\"CI type\"]"
     ], 
     "language": "python", 
     "outputs": [], 
     "prompt_number": 32
    }, 
    {
     "cell_type": "markdown", 
     "source": [
      "# Bonus Exercise: Transcribe DNA to RNA", 
      "### Motivation:", 
      "During transcription, an enzyme called RNA Polymerase reads the DNA sequence and creates a complementary RNA sequence. Furthermore, RNA has the nucleotide uracil (U) instead of thymine (T). ", 
      "### Task:", 
      "Write a function that mimics transcription. The input argument is a string that contains the letters A, T, G, and C. Create a new string following these rules: ", 
      "", 
      "* Convert A to U", 
      "", 
      "* Convert T to A", 
      "", 
      "* Convert G to C", 
      "", 
      "* Convert C to G", 
      "", 
      "Hint: You can iterate through a string using a for loop similary to how you loop through a list."
     ]
    }, 
    {
     "cell_type": "code", 
     "collapsed": true, 
     "input": [
      "def transcribe(seq):", 
      "    \"\"\"Write your docstring here.", 
      "    \"\"\""
     ], 
     "language": "python", 
     "outputs": [], 
     "prompt_number": 1
    }, 
    {
     "cell_type": "markdown", 
     "source": [
      "Check your work:"
     ]
    }, 
    {
     "cell_type": "code", 
     "collapsed": false, 
     "input": [
      "transcribe('ATGC') == 'UACG'"
     ], 
     "language": "python", 
     "outputs": [], 
     "prompt_number": 1
    }, 
    {
     "cell_type": "code", 
     "collapsed": true, 
     "input": [
      "transcribe('ATGCAGTCAGTGCAGTCAGT') == 'UACGUCAGUCACGUCAGUCA'"
     ], 
     "language": "python", 
     "outputs": [], 
     "prompt_number": 6
    }
   ]
  }
 ]
}